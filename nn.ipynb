{
 "cells": [
  {
   "cell_type": "code",
   "execution_count": 1,
   "metadata": {},
   "outputs": [],
   "source": [
    "from nn import Model, Dense\n",
    "import numpy as np\n",
    "import matplotlib.pyplot as plt\n",
    "from tensorflow.keras.datasets import mnist\n",
    "\n",
    "np.set_printoptions(precision=3)"
   ]
  },
  {
   "cell_type": "code",
   "execution_count": 2,
   "metadata": {},
   "outputs": [],
   "source": [
    "(X_train, y_train), (X_test, y_test) = mnist.load_data()\n",
    "X_train = X_train.reshape((X_train.shape[0], -1))\n",
    "X_train = X_train / 255\n",
    "y_train = y_train\n",
    "\n",
    "X_test = X_test.reshape((X_test.shape[0], -1))\n",
    "X_test = X_test / 255"
   ]
  },
  {
   "cell_type": "code",
   "execution_count": null,
   "metadata": {},
   "outputs": [
    {
     "name": "stdout",
     "output_type": "stream",
     "text": [
      "Epoch  1/30 - loss: 1.074 acc: 0.689\n",
      "Epoch  2/30 - loss: 0.511 acc: 0.844\n",
      "Epoch  3/30 - loss: 0.422 acc: 0.874\n",
      "Epoch  4/30 - loss: 0.374 acc: 0.888\n",
      "Epoch  5/30 - loss: 0.343 acc: 0.898\n",
      "Epoch  6/30 - loss: 0.319 acc: 0.905\n",
      "Epoch  7/30 - loss: 0.301 acc: 0.911\n",
      "Epoch  8/30 - loss: 0.285 acc: 0.916\n",
      "Epoch  9/30 - loss: 0.272 acc: 0.919\n",
      "Epoch 10/30 - loss: 0.261 acc: 0.922\n",
      "Epoch 11/30 - loss: 0.251 acc: 0.926\n",
      "Epoch 12/30 - loss: 0.242 acc: 0.928\n",
      "Epoch 13/30 - loss: 0.234 acc: 0.930\n",
      "Epoch 14/30 - loss: 0.227 acc: 0.932\n",
      "Epoch 15/30 - loss: 0.220 acc: 0.935\n",
      "Epoch 16/30 - loss: 0.214 acc: 0.936\n",
      "Epoch 17/30 - loss: 0.208 acc: 0.938\n",
      "Epoch 18/30 - loss: 0.203 acc: 0.939\n",
      "Epoch 19/30 - loss: 0.198 acc: 0.941\n",
      "Epoch 20/30 - loss: 0.193 acc: 0.942\n",
      "Epoch 21/30 - loss: 0.188 acc: 0.943\n",
      "Epoch 22/30 - loss: 0.184 acc: 0.945\n",
      "Epoch 23/30 - loss: 0.180 acc: 0.946\n",
      "Epoch 24/30 - loss: 0.176 acc: 0.947\n",
      "Epoch 25/30 - loss: 0.173 acc: 0.948\n",
      "Epoch 26/30 - loss: 0.169 acc: 0.949\n"
     ]
    }
   ],
   "source": [
    "model = Model()\n",
    "model.add(Dense(64, 'sigmoid'))\n",
    "model.add(Dense(10, 'softmax'))\n",
    "model.fit(X_train, y_train, epochs=30, batch_size=32, learning_rate=0.1, verbose=True)"
   ]
  },
  {
   "cell_type": "code",
   "execution_count": null,
   "metadata": {},
   "outputs": [],
   "source": [
    "print('Train accuracy: %0.3f' % model.evaluate(X_train, y_train))\n",
    "print('Test accuracy: %0.3f' % model.evaluate(X_test, y_test))"
   ]
  },
  {
   "cell_type": "code",
   "execution_count": null,
   "metadata": {},
   "outputs": [],
   "source": [
    "plt.plot(model.scores['loss'])\n",
    "plt.show()"
   ]
  },
  {
   "cell_type": "code",
   "execution_count": null,
   "metadata": {},
   "outputs": [],
   "source": [
    "plt.plot(model.scores['acc'])\n",
    "plt.show()"
   ]
  },
  {
   "cell_type": "code",
   "execution_count": null,
   "metadata": {},
   "outputs": [],
   "source": []
  }
 ],
 "metadata": {
  "kernelspec": {
   "display_name": "Python 3",
   "language": "python",
   "name": "python3"
  },
  "language_info": {
   "codemirror_mode": {
    "name": "ipython",
    "version": 3
   },
   "file_extension": ".py",
   "mimetype": "text/x-python",
   "name": "python",
   "nbconvert_exporter": "python",
   "pygments_lexer": "ipython3",
   "version": "3.7.4"
  }
 },
 "nbformat": 4,
 "nbformat_minor": 2
}
