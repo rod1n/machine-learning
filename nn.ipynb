{
 "cells": [
  {
   "cell_type": "code",
   "execution_count": 1,
   "metadata": {},
   "outputs": [],
   "source": [
    "from nn import Model, Dense\n",
    "import numpy as np\n",
    "import matplotlib.pyplot as plt\n",
    "from tensorflow.keras.datasets import mnist\n",
    "\n",
    "np.set_printoptions(precision=3)\n",
    "np.random.seed(1)"
   ]
  },
  {
   "cell_type": "code",
   "execution_count": 2,
   "metadata": {},
   "outputs": [],
   "source": [
    "(X_train, y_train), (X_test, y_test) = mnist.load_data()\n",
    "X_train = X_train.reshape((X_train.shape[0], -1))\n",
    "X_train = X_train / 255\n",
    "y_train = y_train\n",
    "\n",
    "X_test = X_test.reshape((X_test.shape[0], -1))\n",
    "X_test = X_test / 255"
   ]
  },
  {
   "cell_type": "code",
   "execution_count": 3,
   "metadata": {},
   "outputs": [
    {
     "name": "stdout",
     "output_type": "stream",
     "text": [
      "Epoch  1/40 - loss: 1.170 acc: 0.700\n",
      "Epoch  2/40 - loss: 0.504 acc: 0.849\n",
      "Epoch  3/40 - loss: 0.407 acc: 0.878\n",
      "Epoch  4/40 - loss: 0.355 acc: 0.893\n",
      "Epoch  5/40 - loss: 0.321 acc: 0.903\n",
      "Epoch  6/40 - loss: 0.296 acc: 0.911\n",
      "Epoch  7/40 - loss: 0.277 acc: 0.916\n",
      "Epoch  8/40 - loss: 0.261 acc: 0.921\n",
      "Epoch  9/40 - loss: 0.248 acc: 0.925\n",
      "Epoch 10/40 - loss: 0.236 acc: 0.929\n",
      "Epoch 11/40 - loss: 0.226 acc: 0.931\n",
      "Epoch 12/40 - loss: 0.217 acc: 0.934\n",
      "Epoch 13/40 - loss: 0.209 acc: 0.937\n",
      "Epoch 14/40 - loss: 0.201 acc: 0.940\n",
      "Epoch 15/40 - loss: 0.195 acc: 0.942\n",
      "Epoch 16/40 - loss: 0.189 acc: 0.943\n",
      "Epoch 17/40 - loss: 0.183 acc: 0.945\n",
      "Epoch 18/40 - loss: 0.177 acc: 0.946\n",
      "Epoch 19/40 - loss: 0.172 acc: 0.948\n",
      "Epoch 20/40 - loss: 0.168 acc: 0.950\n",
      "Epoch 21/40 - loss: 0.163 acc: 0.951\n",
      "Epoch 22/40 - loss: 0.159 acc: 0.952\n",
      "Epoch 23/40 - loss: 0.155 acc: 0.953\n",
      "Epoch 24/40 - loss: 0.152 acc: 0.955\n",
      "Epoch 25/40 - loss: 0.148 acc: 0.956\n",
      "Epoch 26/40 - loss: 0.145 acc: 0.957\n",
      "Epoch 27/40 - loss: 0.141 acc: 0.958\n",
      "Epoch 28/40 - loss: 0.138 acc: 0.959\n",
      "Epoch 29/40 - loss: 0.135 acc: 0.960\n",
      "Epoch 30/40 - loss: 0.132 acc: 0.961\n",
      "Epoch 31/40 - loss: 0.130 acc: 0.962\n",
      "Epoch 32/40 - loss: 0.127 acc: 0.963\n",
      "Epoch 33/40 - loss: 0.124 acc: 0.963\n",
      "Epoch 34/40 - loss: 0.122 acc: 0.964\n",
      "Epoch 35/40 - loss: 0.119 acc: 0.965\n",
      "Epoch 36/40 - loss: 0.117 acc: 0.966\n",
      "Epoch 37/40 - loss: 0.115 acc: 0.966\n",
      "Epoch 38/40 - loss: 0.113 acc: 0.967\n",
      "Epoch 39/40 - loss: 0.111 acc: 0.968\n",
      "Epoch 40/40 - loss: 0.109 acc: 0.968\n"
     ]
    }
   ],
   "source": [
    "model = Model()\n",
    "model.add(Dense(100, 'sigmoid'))\n",
    "model.add(Dense(10, 'softmax'))\n",
    "model.fit(X_train, y_train, epochs=40, batch_size=32, penalty=None, learning_rate=0.1, verbose=True)"
   ]
  },
  {
   "cell_type": "code",
   "execution_count": 4,
   "metadata": {},
   "outputs": [
    {
     "name": "stdout",
     "output_type": "stream",
     "text": [
      "Train accuracy: 0.966\n",
      "Test accuracy: 0.946\n"
     ]
    }
   ],
   "source": [
    "_, scores = model.evaluate(X_train, y_train)\n",
    "print('Train accuracy: %0.3f' % scores['acc'])\n",
    "\n",
    "_, scores = model.evaluate(X_test, y_test)\n",
    "print('Test accuracy: %0.3f' % scores['acc'])"
   ]
  },
  {
   "cell_type": "code",
   "execution_count": 5,
   "metadata": {},
   "outputs": [
    {
     "data": {
      "image/png": "[encoded data removed]",
      "text/plain": [
       "<Figure size 432x288 with 1 Axes>"
      ]
     },
     "metadata": {
      "needs_background": "light"
     },
     "output_type": "display_data"
    }
   ],
   "source": [
    "plt.plot(model.scores['loss'])\n",
    "plt.plot(model.scores['val_loss'])\n",
    "plt.show()"
   ]
  },
  {
   "cell_type": "code",
   "execution_count": 6,
   "metadata": {},
   "outputs": [
    {
     "data": {
      "image/png": "[encoded data removed]",
      "text/plain": [
       "<Figure size 432x288 with 1 Axes>"
      ]
     },
     "metadata": {
      "needs_background": "light"
     },
     "output_type": "display_data"
    }
   ],
   "source": [
    "plt.plot(model.scores['acc'])\n",
    "plt.plot(model.scores['val_acc'])\n",
    "plt.show()"
   ]
  },
  {
   "cell_type": "code",
   "execution_count": 10,
   "metadata": {},
   "outputs": [
    {
     "name": "stdout",
     "output_type": "stream",
     "text": [
      "Epoch  1/40 - loss: 1.152 acc: 0.705\n",
      "Epoch  2/40 - loss: 0.472 acc: 0.858\n",
      "Epoch  3/40 - loss: 0.372 acc: 0.890\n",
      "Epoch  4/40 - loss: 0.320 acc: 0.907\n",
      "Epoch  5/40 - loss: 0.286 acc: 0.918\n",
      "Epoch  6/40 - loss: 0.261 acc: 0.926\n",
      "Epoch  7/40 - loss: 0.242 acc: 0.932\n",
      "Epoch  8/40 - loss: 0.227 acc: 0.937\n",
      "Epoch  9/40 - loss: 0.215 acc: 0.941\n",
      "Epoch 10/40 - loss: 0.205 acc: 0.945\n",
      "Epoch 11/40 - loss: 0.197 acc: 0.947\n",
      "Epoch 12/40 - loss: 0.190 acc: 0.950\n",
      "Epoch 13/40 - loss: 0.185 acc: 0.952\n",
      "Epoch 14/40 - loss: 0.180 acc: 0.953\n",
      "Epoch 15/40 - loss: 0.176 acc: 0.954\n",
      "Epoch 16/40 - loss: 0.173 acc: 0.955\n",
      "Epoch 17/40 - loss: 0.170 acc: 0.956\n",
      "Epoch 18/40 - loss: 0.168 acc: 0.957\n",
      "Epoch 19/40 - loss: 0.166 acc: 0.958\n",
      "Epoch 20/40 - loss: 0.164 acc: 0.958\n",
      "Epoch 21/40 - loss: 0.162 acc: 0.959\n",
      "Epoch 22/40 - loss: 0.160 acc: 0.959\n",
      "Epoch 23/40 - loss: 0.159 acc: 0.960\n",
      "Epoch 24/40 - loss: 0.157 acc: 0.960\n",
      "Epoch 25/40 - loss: 0.156 acc: 0.961\n",
      "Epoch 26/40 - loss: 0.155 acc: 0.961\n",
      "Epoch 27/40 - loss: 0.154 acc: 0.961\n",
      "Epoch 28/40 - loss: 0.153 acc: 0.962\n",
      "Epoch 29/40 - loss: 0.152 acc: 0.962\n",
      "Epoch 30/40 - loss: 0.151 acc: 0.962\n",
      "Epoch 31/40 - loss: 0.150 acc: 0.963\n",
      "Epoch 32/40 - loss: 0.149 acc: 0.963\n",
      "Epoch 33/40 - loss: 0.149 acc: 0.963\n",
      "Epoch 34/40 - loss: 0.148 acc: 0.963\n",
      "Epoch 35/40 - loss: 0.147 acc: 0.963\n",
      "Epoch 36/40 - loss: 0.147 acc: 0.964\n",
      "Epoch 37/40 - loss: 0.146 acc: 0.964\n",
      "Epoch 38/40 - loss: 0.146 acc: 0.964\n",
      "Epoch 39/40 - loss: 0.145 acc: 0.964\n",
      "Epoch 40/40 - loss: 0.145 acc: 0.964\n",
      "Train accuracy: 0.963\n",
      "Test accuracy: 0.961\n"
     ]
    }
   ],
   "source": [
    "model = Model()\n",
    "model.add(Dense(100, 'sigmoid'))\n",
    "model.add(Dense(10, 'softmax'))\n",
    "model.fit(X_train, y_train, epochs=40, batch_size=32, penalty='l2', alpha=0.02, learning_rate=0.1, verbose=True)\n",
    "\n",
    "_, scores = model.evaluate(X_train, y_train)\n",
    "print('Train accuracy: %0.3f' % scores['acc'])\n",
    "\n",
    "_, scores = model.evaluate(X_test, y_test)\n",
    "print('Test accuracy: %0.3f' % scores['acc'])"
   ]
  },
  {
   "cell_type": "code",
   "execution_count": 11,
   "metadata": {},
   "outputs": [
    {
     "data": {
      "image/png": "[encoded data removed]",
      "text/plain": [
       "<Figure size 432x288 with 1 Axes>"
      ]
     },
     "metadata": {
      "needs_background": "light"
     },
     "output_type": "display_data"
    },
    {
     "data": {
      "image/png": "[encoded data removed]",
      "text/plain": [
       "<Figure size 432x288 with 1 Axes>"
      ]
     },
     "metadata": {
      "needs_background": "light"
     },
     "output_type": "display_data"
    }
   ],
   "source": [
    "plt.plot(model.scores['loss'])\n",
    "plt.plot(model.scores['val_loss'])\n",
    "plt.show()\n",
    "\n",
    "plt.plot(model.scores['acc'])\n",
    "plt.plot(model.scores['val_acc'])\n",
    "plt.show()"
   ]
  },
  {
   "cell_type": "code",
   "execution_count": null,
   "metadata": {},
   "outputs": [],
   "source": []
  }
 ],
 "metadata": {
  "kernelspec": {
   "display_name": "Python 3",
   "language": "python",
   "name": "python3"
  },
  "language_info": {
   "codemirror_mode": {
    "name": "ipython",
    "version": 3
   },
   "file_extension": ".py",
   "mimetype": "text/x-python",
   "name": "python",
   "nbconvert_exporter": "python",
   "pygments_lexer": "ipython3",
   "version": "3.7.4"
  }
 },
 "nbformat": 4,
 "nbformat_minor": 2
}
