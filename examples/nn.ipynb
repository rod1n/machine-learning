{
 "cells": [
  {
   "cell_type": "code",
   "execution_count": 1,
   "metadata": {
    "scrolled": false
   },
   "outputs": [],
   "source": [
    "import sys\n",
    "sys.path.append('..')\n",
    "\n",
    "from nn import Model\n",
    "from nn.layers import Dense, Dropout\n",
    "import numpy as np\n",
    "import matplotlib.pyplot as plt\n",
    "from tensorflow.keras.datasets import mnist\n",
    "\n",
    "np.set_printoptions(precision=3)\n",
    "np.random.seed(1)"
   ]
  },
  {
   "cell_type": "code",
   "execution_count": 2,
   "metadata": {
    "scrolled": false
   },
   "outputs": [],
   "source": [
    "(X_train, y_train), (X_test, y_test) = mnist.load_data()\n",
    "X_train = X_train.reshape((X_train.shape[0], -1))\n",
    "X_train = X_train / 255\n",
    "y_train = y_train\n",
    "\n",
    "X_test = X_test.reshape((X_test.shape[0], -1))\n",
    "X_test = X_test / 255"
   ]
  },
  {
   "cell_type": "code",
   "execution_count": 3,
   "metadata": {
    "scrolled": false
   },
   "outputs": [
    {
     "name": "stdout",
     "output_type": "stream",
     "text": [
      "Epoch 1/40\n",
      "48000/48000 - loss: 1.2395 - accuracy: 0.68492\n",
      "Epoch 2/40\n",
      "48000/48000 - loss: 0.5271 - accuracy: 0.8413\n",
      "Epoch 3/40\n",
      "48000/48000 - loss: 0.4233 - accuracy: 0.8725\n",
      "Epoch 4/40\n",
      "48000/48000 - loss: 0.3690 - accuracy: 0.8893\n",
      "Epoch 5/40\n",
      "48000/48000 - loss: 0.3334 - accuracy: 0.8993\n",
      "Epoch 6/40\n",
      "48000/48000 - loss: 0.3073 - accuracy: 0.9069\n",
      "Epoch 7/40\n",
      "48000/48000 - loss: 0.2869 - accuracy: 0.9132\n",
      "Epoch 8/40\n",
      "48000/48000 - loss: 0.2702 - accuracy: 0.9183\n",
      "Epoch 9/40\n",
      "48000/48000 - loss: 0.2561 - accuracy: 0.9221\n",
      "Epoch 10/40\n",
      "48000/48000 - loss: 0.2440 - accuracy: 0.9260\n",
      "Epoch 11/40\n",
      "48000/48000 - loss: 0.2333 - accuracy: 0.9292\n",
      "Epoch 12/40\n",
      "48000/48000 - loss: 0.2238 - accuracy: 0.9318\n",
      "Epoch 13/40\n",
      "48000/48000 - loss: 0.2153 - accuracy: 0.9347\n",
      "Epoch 14/40\n",
      "48000/48000 - loss: 0.2076 - accuracy: 0.9370\n",
      "Epoch 15/40\n",
      "48000/48000 - loss: 0.2005 - accuracy: 0.9388\n",
      "Epoch 16/40\n",
      "48000/48000 - loss: 0.1940 - accuracy: 0.9409\n",
      "Epoch 17/40\n",
      "48000/48000 - loss: 0.1880 - accuracy: 0.9430\n",
      "Epoch 18/40\n",
      "48000/48000 - loss: 0.1825 - accuracy: 0.9447\n",
      "Epoch 19/40\n",
      "48000/48000 - loss: 0.1773 - accuracy: 0.9466\n",
      "Epoch 20/40\n",
      "48000/48000 - loss: 0.1725 - accuracy: 0.9479\n",
      "Epoch 21/40\n",
      "48000/48000 - loss: 0.1679 - accuracy: 0.9493\n",
      "Epoch 22/40\n",
      "48000/48000 - loss: 0.1636 - accuracy: 0.9505\n",
      "Epoch 23/40\n",
      "48000/48000 - loss: 0.1595 - accuracy: 0.9516\n",
      "Epoch 24/40\n",
      "48000/48000 - loss: 0.1557 - accuracy: 0.9533\n",
      "Epoch 25/40\n",
      "48000/48000 - loss: 0.1520 - accuracy: 0.9545\n",
      "Epoch 26/40\n",
      "48000/48000 - loss: 0.1485 - accuracy: 0.9557\n",
      "Epoch 27/40\n",
      "48000/48000 - loss: 0.1452 - accuracy: 0.9569\n",
      "Epoch 28/40\n",
      "48000/48000 - loss: 0.1420 - accuracy: 0.9576\n",
      "Epoch 29/40\n",
      "48000/48000 - loss: 0.1390 - accuracy: 0.9586\n",
      "Epoch 30/40\n",
      "48000/48000 - loss: 0.1361 - accuracy: 0.9596\n",
      "Epoch 31/40\n",
      "48000/48000 - loss: 0.1333 - accuracy: 0.9607\n",
      "Epoch 32/40\n",
      "48000/48000 - loss: 0.1306 - accuracy: 0.9616\n",
      "Epoch 33/40\n",
      "48000/48000 - loss: 0.1280 - accuracy: 0.9622\n",
      "Epoch 34/40\n",
      "48000/48000 - loss: 0.1255 - accuracy: 0.9631\n",
      "Epoch 35/40\n",
      "48000/48000 - loss: 0.1231 - accuracy: 0.9640\n",
      "Epoch 36/40\n",
      "48000/48000 - loss: 0.1208 - accuracy: 0.9648\n",
      "Epoch 37/40\n",
      "48000/48000 - loss: 0.1185 - accuracy: 0.9656\n",
      "Epoch 38/40\n",
      "48000/48000 - loss: 0.1163 - accuracy: 0.9662\n",
      "Epoch 39/40\n",
      "48000/48000 - loss: 0.1142 - accuracy: 0.9668\n",
      "Epoch 40/40\n",
      "48000/48000 - loss: 0.1121 - accuracy: 0.9675\n"
     ]
    }
   ],
   "source": [
    "model = Model()\n",
    "model.add(Dense(100, 'sigmoid', input_shape=(784,)))\n",
    "model.add(Dense(10, 'softmax'))\n",
    "model.compile()\n",
    "model.fit(X_train, y_train, epochs=40, batch_size=32, penalty=None, learning_rate=0.1, validation_fraction=0.2, verbose=True)"
   ]
  },
  {
   "cell_type": "code",
   "execution_count": 4,
   "metadata": {
    "scrolled": false
   },
   "outputs": [
    {
     "name": "stdout",
     "output_type": "stream",
     "text": [
      "Train accuracy: 0.962\n",
      "Test accuracy: 0.944\n"
     ]
    }
   ],
   "source": [
    "_, scores = model.evaluate(X_train, y_train)\n",
    "print('Train accuracy: %0.3f' % scores['acc'])\n",
    "\n",
    "_, scores = model.evaluate(X_test, y_test)\n",
    "print('Test accuracy: %0.3f' % scores['acc'])"
   ]
  },
  {
   "cell_type": "code",
   "execution_count": 5,
   "metadata": {
    "scrolled": false
   },
   "outputs": [
    {
     "data": {
      "image/png": "[encoded data removed]",
      "text/plain": [
       "<Figure size 432x288 with 1 Axes>"
      ]
     },
     "metadata": {
      "needs_background": "light"
     },
     "output_type": "display_data"
    }
   ],
   "source": [
    "plt.plot(model.scores['loss'])\n",
    "plt.plot(model.scores['val_loss'])\n",
    "plt.show()"
   ]
  },
  {
   "cell_type": "code",
   "execution_count": 6,
   "metadata": {
    "scrolled": false
   },
   "outputs": [
    {
     "data": {
      "image/png": "[encoded data removed]",
      "text/plain": [
       "<Figure size 432x288 with 1 Axes>"
      ]
     },
     "metadata": {
      "needs_background": "light"
     },
     "output_type": "display_data"
    }
   ],
   "source": [
    "plt.plot(model.scores['acc'])\n",
    "plt.plot(model.scores['val_acc'])\n",
    "plt.show()"
   ]
  },
  {
   "cell_type": "code",
   "execution_count": 7,
   "metadata": {
    "scrolled": false
   },
   "outputs": [
    {
     "name": "stdout",
     "output_type": "stream",
     "text": [
      "Epoch 1/40\n",
      "48000/48000 - loss: 1.2485 - accuracy: 0.68988\n",
      "Epoch 2/40\n",
      "48000/48000 - loss: 0.5109 - accuracy: 0.8490\n",
      "Epoch 3/40\n",
      "48000/48000 - loss: 0.4035 - accuracy: 0.8814\n",
      "Epoch 4/40\n",
      "48000/48000 - loss: 0.3476 - accuracy: 0.8982\n",
      "Epoch 5/40\n",
      "48000/48000 - loss: 0.3114 - accuracy: 0.9103\n",
      "Epoch 6/40\n",
      "48000/48000 - loss: 0.2849 - accuracy: 0.9192\n",
      "Epoch 7/40\n",
      "48000/48000 - loss: 0.2641 - accuracy: 0.9256\n",
      "Epoch 8/40\n",
      "48000/48000 - loss: 0.2472 - accuracy: 0.9309\n",
      "Epoch 9/40\n",
      "48000/48000 - loss: 0.2331 - accuracy: 0.9353\n",
      "Epoch 10/40\n",
      "48000/48000 - loss: 0.2212 - accuracy: 0.9392\n",
      "Epoch 11/40\n",
      "48000/48000 - loss: 0.2113 - accuracy: 0.9427\n",
      "Epoch 12/40\n",
      "48000/48000 - loss: 0.2028 - accuracy: 0.9452\n",
      "Epoch 13/40\n",
      "48000/48000 - loss: 0.1957 - accuracy: 0.9470\n",
      "Epoch 14/40\n",
      "48000/48000 - loss: 0.1897 - accuracy: 0.9491\n",
      "Epoch 15/40\n",
      "48000/48000 - loss: 0.1846 - accuracy: 0.9510\n",
      "Epoch 16/40\n",
      "48000/48000 - loss: 0.1803 - accuracy: 0.9523\n",
      "Epoch 17/40\n",
      "48000/48000 - loss: 0.1766 - accuracy: 0.9531\n",
      "Epoch 18/40\n",
      "48000/48000 - loss: 0.1733 - accuracy: 0.9544\n",
      "Epoch 19/40\n",
      "48000/48000 - loss: 0.1706 - accuracy: 0.9555\n",
      "Epoch 20/40\n",
      "48000/48000 - loss: 0.1681 - accuracy: 0.9563\n",
      "Epoch 21/40\n",
      "48000/48000 - loss: 0.1659 - accuracy: 0.9571\n",
      "Epoch 22/40\n",
      "48000/48000 - loss: 0.1639 - accuracy: 0.9578\n",
      "Epoch 23/40\n",
      "48000/48000 - loss: 0.1622 - accuracy: 0.9582\n",
      "Epoch 24/40\n",
      "48000/48000 - loss: 0.1606 - accuracy: 0.9589\n",
      "Epoch 25/40\n",
      "48000/48000 - loss: 0.1591 - accuracy: 0.9596\n",
      "Epoch 26/40\n",
      "48000/48000 - loss: 0.1577 - accuracy: 0.9602\n",
      "Epoch 27/40\n",
      "48000/48000 - loss: 0.1565 - accuracy: 0.9606\n",
      "Epoch 28/40\n",
      "48000/48000 - loss: 0.1553 - accuracy: 0.9609\n",
      "Epoch 29/40\n",
      "48000/48000 - loss: 0.1543 - accuracy: 0.9612\n",
      "Epoch 30/40\n",
      "48000/48000 - loss: 0.1533 - accuracy: 0.9616\n",
      "Epoch 31/40\n",
      "48000/48000 - loss: 0.1523 - accuracy: 0.9618\n",
      "Epoch 32/40\n",
      "48000/48000 - loss: 0.1515 - accuracy: 0.9621\n",
      "Epoch 33/40\n",
      "48000/48000 - loss: 0.1507 - accuracy: 0.9623\n",
      "Epoch 34/40\n",
      "48000/48000 - loss: 0.1499 - accuracy: 0.9626\n",
      "Epoch 35/40\n",
      "48000/48000 - loss: 0.1492 - accuracy: 0.9628\n",
      "Epoch 36/40\n",
      "48000/48000 - loss: 0.1485 - accuracy: 0.9631\n",
      "Epoch 37/40\n",
      "48000/48000 - loss: 0.1479 - accuracy: 0.9632\n",
      "Epoch 38/40\n",
      "48000/48000 - loss: 0.1473 - accuracy: 0.9634\n",
      "Epoch 39/40\n",
      "48000/48000 - loss: 0.1467 - accuracy: 0.9635\n",
      "Epoch 40/40\n",
      "48000/48000 - loss: 0.1462 - accuracy: 0.9636\n",
      "Train accuracy: 0.961\n",
      "Test accuracy: 0.960\n"
     ]
    }
   ],
   "source": [
    "model = Model()\n",
    "model.add(Dense(100, 'sigmoid', input_shape=(784,)))\n",
    "model.add(Dense(10, 'softmax'))\n",
    "model.compile()\n",
    "model.fit(X_train, y_train, epochs=40, batch_size=32, penalty='l2', alpha=0.02, learning_rate=0.1, validation_fraction=0.2, verbose=True)\n",
    "\n",
    "_, scores = model.evaluate(X_train, y_train)\n",
    "print('Train accuracy: %0.3f' % scores['acc'])\n",
    "\n",
    "_, scores = model.evaluate(X_test, y_test)\n",
    "print('Test accuracy: %0.3f' % scores['acc'])"
   ]
  },
  {
   "cell_type": "code",
   "execution_count": 8,
   "metadata": {
    "scrolled": false
   },
   "outputs": [
    {
     "data": {
      "image/png": "[encoded data removed]",
      "text/plain": [
       "<Figure size 432x288 with 1 Axes>"
      ]
     },
     "metadata": {
      "needs_background": "light"
     },
     "output_type": "display_data"
    },
    {
     "data": {
      "image/png": "[encoded data removed]",
      "text/plain": [
       "<Figure size 432x288 with 1 Axes>"
      ]
     },
     "metadata": {
      "needs_background": "light"
     },
     "output_type": "display_data"
    }
   ],
   "source": [
    "plt.plot(model.scores['loss'])\n",
    "plt.plot(model.scores['val_loss'])\n",
    "plt.show()\n",
    "\n",
    "plt.plot(model.scores['acc'])\n",
    "plt.plot(model.scores['val_acc'])\n",
    "plt.show()"
   ]
  },
  {
   "cell_type": "code",
   "execution_count": 9,
   "metadata": {
    "scrolled": false
   },
   "outputs": [
    {
     "name": "stdout",
     "output_type": "stream",
     "text": [
      "Epoch 1/40\n",
      "48000/48000 - loss: 2.4586 - accuracy: 0.53565\n",
      "Epoch 2/40\n",
      "48000/48000 - loss: 0.9536 - accuracy: 0.7020\n",
      "Epoch 3/40\n",
      "48000/48000 - loss: 0.8020 - accuracy: 0.7462\n",
      "Epoch 4/40\n",
      "48000/48000 - loss: 0.7236 - accuracy: 0.7718\n",
      "Epoch 5/40\n",
      "48000/48000 - loss: 0.6732 - accuracy: 0.7877\n",
      "Epoch 6/40\n",
      "48000/48000 - loss: 0.6370 - accuracy: 0.7970\n",
      "Epoch 7/40\n",
      "48000/48000 - loss: 0.5991 - accuracy: 0.8115\n",
      "Epoch 8/40\n",
      "48000/48000 - loss: 0.5794 - accuracy: 0.8183\n",
      "Epoch 9/40\n",
      "48000/48000 - loss: 0.5533 - accuracy: 0.8270\n",
      "Epoch 10/40\n",
      "48000/48000 - loss: 0.5362 - accuracy: 0.8333\n",
      "Epoch 11/40\n",
      "48000/48000 - loss: 0.5218 - accuracy: 0.8375\n",
      "Epoch 12/40\n",
      "48000/48000 - loss: 0.5054 - accuracy: 0.8428\n",
      "Epoch 13/40\n",
      "48000/48000 - loss: 0.4911 - accuracy: 0.8477\n",
      "Epoch 14/40\n",
      "48000/48000 - loss: 0.4842 - accuracy: 0.8510\n",
      "Epoch 15/40\n",
      "48000/48000 - loss: 0.4745 - accuracy: 0.8525\n",
      "Epoch 16/40\n",
      "48000/48000 - loss: 0.4576 - accuracy: 0.8588\n",
      "Epoch 17/40\n",
      "48000/48000 - loss: 0.4525 - accuracy: 0.8603\n",
      "Epoch 18/40\n",
      "48000/48000 - loss: 0.4417 - accuracy: 0.8645\n",
      "Epoch 19/40\n",
      "48000/48000 - loss: 0.4331 - accuracy: 0.8668\n",
      "Epoch 20/40\n",
      "48000/48000 - loss: 0.4329 - accuracy: 0.8667\n",
      "Epoch 21/40\n",
      "48000/48000 - loss: 0.4220 - accuracy: 0.8710\n",
      "Epoch 22/40\n",
      "48000/48000 - loss: 0.4203 - accuracy: 0.8695\n",
      "Epoch 23/40\n",
      "48000/48000 - loss: 0.4179 - accuracy: 0.8715\n",
      "Epoch 24/40\n",
      "48000/48000 - loss: 0.4047 - accuracy: 0.8761\n",
      "Epoch 25/40\n",
      "48000/48000 - loss: 0.3970 - accuracy: 0.8780\n",
      "Epoch 26/40\n",
      "48000/48000 - loss: 0.3919 - accuracy: 0.8791\n",
      "Epoch 27/40\n",
      "48000/48000 - loss: 0.3908 - accuracy: 0.8809\n",
      "Epoch 28/40\n",
      "48000/48000 - loss: 0.3822 - accuracy: 0.8811\n",
      "Epoch 29/40\n",
      "48000/48000 - loss: 0.3830 - accuracy: 0.8824\n",
      "Epoch 30/40\n",
      "48000/48000 - loss: 0.3762 - accuracy: 0.8858\n",
      "Epoch 31/40\n",
      "48000/48000 - loss: 0.3731 - accuracy: 0.8865\n",
      "Epoch 32/40\n",
      "48000/48000 - loss: 0.3680 - accuracy: 0.8876\n",
      "Epoch 33/40\n",
      "48000/48000 - loss: 0.3596 - accuracy: 0.8893\n",
      "Epoch 34/40\n",
      "48000/48000 - loss: 0.3594 - accuracy: 0.8890\n",
      "Epoch 35/40\n",
      "48000/48000 - loss: 0.3594 - accuracy: 0.8898\n",
      "Epoch 36/40\n",
      "48000/48000 - loss: 0.3573 - accuracy: 0.8907\n",
      "Epoch 37/40\n",
      "48000/48000 - loss: 0.3511 - accuracy: 0.8922\n",
      "Epoch 38/40\n",
      "48000/48000 - loss: 0.3507 - accuracy: 0.8941\n",
      "Epoch 39/40\n",
      "48000/48000 - loss: 0.3495 - accuracy: 0.8920\n",
      "Epoch 40/40\n",
      "48000/48000 - loss: 0.3397 - accuracy: 0.8977\n"
     ]
    }
   ],
   "source": [
    "model = Model()\n",
    "model.add(Dense(100, 'sigmoid', input_shape=(784,)))\n",
    "model.add(Dropout(keep_prob=0.5))\n",
    "model.add(Dense(10, 'softmax'))\n",
    "model.compile()\n",
    "model.fit(X_train, y_train, epochs=40, batch_size=32, penalty=None, learning_rate=0.1, validation_fraction=0.2, verbose=True)"
   ]
  },
  {
   "cell_type": "code",
   "execution_count": 10,
   "metadata": {
    "scrolled": false
   },
   "outputs": [
    {
     "name": "stdout",
     "output_type": "stream",
     "text": [
      "Train accuracy: 0.943\n",
      "Test accuracy: 0.938\n"
     ]
    }
   ],
   "source": [
    "_, scores = model.evaluate(X_train, y_train)\n",
    "print('Train accuracy: %0.3f' % scores['acc'])\n",
    "\n",
    "_, scores = model.evaluate(X_test, y_test)\n",
    "print('Test accuracy: %0.3f' % scores['acc'])"
   ]
  },
  {
   "cell_type": "code",
   "execution_count": 11,
   "metadata": {
    "scrolled": false
   },
   "outputs": [
    {
     "data": {
      "image/png": "[encoded data removed]",
      "text/plain": [
       "<Figure size 432x288 with 1 Axes>"
      ]
     },
     "metadata": {
      "needs_background": "light"
     },
     "output_type": "display_data"
    },
    {
     "data": {
      "image/png": "[encoded data removed]",
      "text/plain": [
       "<Figure size 432x288 with 1 Axes>"
      ]
     },
     "metadata": {
      "needs_background": "light"
     },
     "output_type": "display_data"
    }
   ],
   "source": [
    "plt.plot(model.scores['loss'])\n",
    "plt.plot(model.scores['val_loss'])\n",
    "plt.show()\n",
    "\n",
    "plt.plot(model.scores['acc'])\n",
    "plt.plot(model.scores['val_acc'])\n",
    "plt.show()"
   ]
  },
  {
   "cell_type": "code",
   "execution_count": null,
   "metadata": {
    "scrolled": false
   },
   "outputs": [],
   "source": []
  }
 ],
 "metadata": {
  "kernelspec": {
   "display_name": "Python 3",
   "language": "python",
   "name": "python3"
  },
  "language_info": {
   "codemirror_mode": {
    "name": "ipython",
    "version": 3
   },
   "file_extension": ".py",
   "mimetype": "text/x-python",
   "name": "python",
   "nbconvert_exporter": "python",
   "pygments_lexer": "ipython3",
   "version": "3.7.4"
  }
 },
 "nbformat": 4,
 "nbformat_minor": 2
}
