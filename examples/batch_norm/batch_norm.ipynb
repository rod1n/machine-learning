{
 "cells": [
  {
   "cell_type": "code",
   "execution_count": 1,
   "metadata": {},
   "outputs": [],
   "source": [
    "import sys\n",
    "sys.path.append('../..')\n",
    "\n",
    "from nn import Model\n",
    "from nn.layers import Conv2D, MaxPooling2D, Flatten, Dense, BatchNorm2D\n",
    "from nn.optimizers import Adam\n",
    "import numpy as np\n",
    "import matplotlib.pyplot as plt\n",
    "from tensorflow.keras.datasets import cifar10\n",
    "\n",
    "np.set_printoptions(precision=3)\n",
    "np.random.seed(1)"
   ]
  },
  {
   "cell_type": "code",
   "execution_count": 2,
   "metadata": {},
   "outputs": [],
   "source": [
    "(X_train, y_train), (X_test, y_test) = cifar10.load_data()\n",
    "X_train = np.transpose(X_train, (0, 3, 1, 2))\n",
    "X_train = X_train[:4000] / 255\n",
    "y_train = y_train.reshape((-1))[:10000]"
   ]
  },
  {
   "cell_type": "code",
   "execution_count": 3,
   "metadata": {},
   "outputs": [
    {
     "name": "stdout",
     "output_type": "stream",
     "text": [
      "Epoch 1/20\n",
      "4000/4000 - loss: 2.3737 - accuracy: 0.1348\n",
      "Epoch 2/20\n",
      "4000/4000 - loss: 2.2062 - accuracy: 0.1675\n",
      "Epoch 3/20\n",
      "4000/4000 - loss: 2.1216 - accuracy: 0.2170\n",
      "Epoch 4/20\n",
      "4000/4000 - loss: 2.0721 - accuracy: 0.2387\n",
      "Epoch 5/20\n",
      "4000/4000 - loss: 2.0178 - accuracy: 0.2695\n",
      "Epoch 6/20\n",
      "4000/4000 - loss: 1.9873 - accuracy: 0.2833\n",
      "Epoch 7/20\n",
      "4000/4000 - loss: 1.9707 - accuracy: 0.2908\n",
      "Epoch 8/20\n",
      "4000/4000 - loss: 1.9311 - accuracy: 0.3028\n",
      "Epoch 9/20\n",
      "4000/4000 - loss: 1.8941 - accuracy: 0.3197\n",
      "Epoch 10/20\n",
      "4000/4000 - loss: 1.8440 - accuracy: 0.3443\n",
      "Epoch 11/20\n",
      "4000/4000 - loss: 1.7985 - accuracy: 0.3575\n",
      "Epoch 12/20\n",
      "4000/4000 - loss: 1.7697 - accuracy: 0.3715\n",
      "Epoch 13/20\n",
      "4000/4000 - loss: 1.7376 - accuracy: 0.3957\n",
      "Epoch 14/20\n",
      "4000/4000 - loss: 1.6869 - accuracy: 0.4047\n",
      "Epoch 15/20\n",
      "4000/4000 - loss: 1.6972 - accuracy: 0.4045\n",
      "Epoch 16/20\n",
      "4000/4000 - loss: 1.6549 - accuracy: 0.4123\n",
      "Epoch 17/20\n",
      "4000/4000 - loss: 1.6431 - accuracy: 0.4280\n",
      "Epoch 18/20\n",
      "4000/4000 - loss: 1.6300 - accuracy: 0.4290\n",
      "Epoch 19/20\n",
      "4000/4000 - loss: 1.6159 - accuracy: 0.4355\n",
      "Epoch 20/20\n",
      "4000/4000 - loss: 1.6028 - accuracy: 0.4318\n"
     ]
    }
   ],
   "source": [
    "regular = Model()\n",
    "regular.add(Conv2D(10, kernel_size=(2, 2), activation='relu', input_shape=(3, 32, 32)))\n",
    "regular.add(MaxPooling2D(pool_size=(2, 2)))\n",
    "regular.add(Conv2D(10, (2, 2), activation='relu'))\n",
    "regular.add(MaxPooling2D(pool_size=(2, 2)))\n",
    "regular.add(Flatten())\n",
    "regular.add(Dense(10, activation='softmax'))\n",
    "regular.compile(Adam(learning_rate=0.01, beta1=0.9, beta2=0.9))\n",
    "regular.fit(X_train, y_train, epochs=20, batch_size=32, verbose=True)"
   ]
  },
  {
   "cell_type": "code",
   "execution_count": 4,
   "metadata": {},
   "outputs": [
    {
     "name": "stdout",
     "output_type": "stream",
     "text": [
      "Epoch 1/20\n",
      "4000/4000 - loss: 14.4135 - accuracy: 0.1943\n",
      "Epoch 2/20\n",
      "4000/4000 - loss: 2.9222 - accuracy: 0.2395\n",
      "Epoch 3/20\n",
      "4000/4000 - loss: 1.8612 - accuracy: 0.3438\n",
      "Epoch 4/20\n",
      "4000/4000 - loss: 1.7614 - accuracy: 0.3810\n",
      "Epoch 5/20\n",
      "4000/4000 - loss: 1.7056 - accuracy: 0.4010\n",
      "Epoch 6/20\n",
      "4000/4000 - loss: 1.6678 - accuracy: 0.4188\n",
      "Epoch 7/20\n",
      "4000/4000 - loss: 1.6851 - accuracy: 0.4095\n",
      "Epoch 8/20\n",
      "4000/4000 - loss: 1.6302 - accuracy: 0.4303\n",
      "Epoch 9/20\n",
      "4000/4000 - loss: 1.6187 - accuracy: 0.4355\n",
      "Epoch 10/20\n",
      "4000/4000 - loss: 1.5853 - accuracy: 0.4447\n",
      "Epoch 11/20\n",
      "4000/4000 - loss: 1.5703 - accuracy: 0.4565\n",
      "Epoch 12/20\n",
      "4000/4000 - loss: 1.5307 - accuracy: 0.4657\n",
      "Epoch 13/20\n",
      "4000/4000 - loss: 1.4961 - accuracy: 0.4855\n",
      "Epoch 14/20\n",
      "4000/4000 - loss: 1.4682 - accuracy: 0.4913\n",
      "Epoch 15/20\n",
      "4000/4000 - loss: 1.4545 - accuracy: 0.5028\n",
      "Epoch 16/20\n",
      "4000/4000 - loss: 1.4411 - accuracy: 0.5030\n",
      "Epoch 17/20\n",
      "4000/4000 - loss: 1.4026 - accuracy: 0.5198\n",
      "Epoch 18/20\n",
      "4000/4000 - loss: 1.3853 - accuracy: 0.5292\n",
      "Epoch 19/20\n",
      "4000/4000 - loss: 1.3672 - accuracy: 0.5367\n",
      "Epoch 20/20\n",
      "4000/4000 - loss: 1.3387 - accuracy: 0.5350\n"
     ]
    }
   ],
   "source": [
    "batch_norm = Model()\n",
    "batch_norm.add(Conv2D(10, kernel_size=(2, 2), activation='sigmoid', input_shape=(3, 32, 32)))\n",
    "batch_norm.add(MaxPooling2D(pool_size=(2, 2)))\n",
    "batch_norm.add(BatchNorm2D())\n",
    "batch_norm.add(Conv2D(10, (2, 2), activation='sigmoid'))\n",
    "batch_norm.add(MaxPooling2D(pool_size=(2, 2)))\n",
    "batch_norm.add(BatchNorm2D())\n",
    "batch_norm.add(Flatten())\n",
    "batch_norm.add(Dense(10, activation='softmax'))\n",
    "batch_norm.compile(Adam(learning_rate=0.01, beta1=0.9, beta2=0.9))\n",
    "batch_norm.fit(X_train, y_train, epochs=20, batch_size=32, verbose=True)"
   ]
  },
  {
   "cell_type": "code",
   "execution_count": 5,
   "metadata": {},
   "outputs": [
    {
     "data": {
      "image/png": "[encoded data removed]",
      "text/plain": [
       "<Figure size 432x288 with 1 Axes>"
      ]
     },
     "metadata": {
      "needs_background": "light"
     },
     "output_type": "display_data"
    }
   ],
   "source": [
    "plt.plot(regular.scores['acc'])\n",
    "plt.plot(batch_norm.scores['acc'])\n",
    "plt.legend(['regular', 'batch normalization'])\n",
    "plt.show()"
   ]
  },
  {
   "cell_type": "code",
   "execution_count": null,
   "metadata": {},
   "outputs": [],
   "source": []
  }
 ],
 "metadata": {
  "kernelspec": {
   "display_name": "Python 3",
   "language": "python",
   "name": "python3"
  },
  "language_info": {
   "codemirror_mode": {
    "name": "ipython",
    "version": 3
   },
   "file_extension": ".py",
   "mimetype": "text/x-python",
   "name": "python",
   "nbconvert_exporter": "python",
   "pygments_lexer": "ipython3",
   "version": "3.7.3"
  }
 },
 "nbformat": 4,
 "nbformat_minor": 2
}
