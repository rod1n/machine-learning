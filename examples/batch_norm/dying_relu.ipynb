{
 "cells": [
  {
   "cell_type": "code",
   "execution_count": 1,
   "metadata": {},
   "outputs": [],
   "source": [
    "import sys\n",
    "sys.path.append('..')\n",
    "\n",
    "from nn import Model\n",
    "from nn.layers import Conv2D, MaxPooling2D, Flatten, Dense, BatchNorm2D\n",
    "from nn.optimizers import Adam\n",
    "import numpy as np\n",
    "import matplotlib.pyplot as plt\n",
    "from tensorflow.keras.datasets import mnist\n",
    "\n",
    "np.set_printoptions(precision=3)\n",
    "np.random.seed(1)"
   ]
  },
  {
   "cell_type": "code",
   "execution_count": 15,
   "metadata": {},
   "outputs": [],
   "source": [
    "(X_train, y_train), (X_test, y_test) = mnist.load_data()\n",
    "X_train = X_train.reshape((X_train.shape[0], -1))\n",
    "X_train = X_train[:4000] / 255\n",
    "y_train = y_train[:4000]\n",
    "\n",
    "X_test = X_test.reshape((X_test.shape[0], -1))\n",
    "X_test = X_test / 255"
   ]
  },
  {
   "cell_type": "code",
   "execution_count": 3,
   "metadata": {},
   "outputs": [
    {
     "name": "stdout",
     "output_type": "stream",
     "text": [
      "Epoch 1/7\n",
      "4000/4000 - loss: 6.9919 - accuracy: 0.14005\n",
      "Epoch 2/7\n",
      "4000/4000 - loss: 2.3103 - accuracy: 0.1000\n",
      "Epoch 3/7\n",
      "4000/4000 - loss: 2.3056 - accuracy: 0.1020\n",
      "Epoch 4/7\n",
      "4000/4000 - loss: 2.3060 - accuracy: 0.1015\n",
      "Epoch 5/7\n",
      "4000/4000 - loss: 2.3067 - accuracy: 0.1027\n",
      "Epoch 6/7\n",
      "4000/4000 - loss: 2.3075 - accuracy: 0.1032\n",
      "Epoch 7/7\n",
      "4000/4000 - loss: 2.3064 - accuracy: 0.1057\n"
     ]
    }
   ],
   "source": [
    "model = Model()\n",
    "model.add(Conv2D(5, (2, 2), activation='relu', input_shape=(1, 28, 28)))\n",
    "model.add(MaxPooling2D((2, 2)))\n",
    "model.add(BatchNorm2D())\n",
    "model.add(Conv2D(5, (2, 2), activation='relu'))\n",
    "model.add(MaxPooling2D((2, 2)))\n",
    "model.add(BatchNorm2D())\n",
    "model.add(Flatten())\n",
    "model.add(Dense(10, activation='softmax'))\n",
    "model.compile(Adam(learning_rate=0.01))\n",
    "model.fit(X_train, y_train, epochs=7, batch_size=32, verbose=True)"
   ]
  },
  {
   "cell_type": "markdown",
   "metadata": {},
   "source": [
    "Because batch normalization layer distributes inputs around a zero mean there are a lot of values below zero which are turned to zero after being fed to the relu activation function. That leads to the problem called \"dying relu\". Dead units do not propagate any gradients back. The more units are dead the harder to update weights."
   ]
  },
  {
   "cell_type": "code",
   "execution_count": 40,
   "metadata": {
    "scrolled": true
   },
   "outputs": [
    {
     "data": {
      "image/png": "[encoded data removed]",
      "text/plain": [
       "<Figure size 432x288 with 1 Axes>"
      ]
     },
     "metadata": {
      "needs_background": "light"
     },
     "output_type": "display_data"
    }
   ],
   "source": [
    "from nn.activations import relu\n",
    "\n",
    "conv_layer2 = model.layers[3]\n",
    "activations = relu(conv_layer2.convs.flatten())\n",
    "\n",
    "plt.hist(activations, 101)\n",
    "plt.show()"
   ]
  }
 ],
 "metadata": {
  "kernelspec": {
   "display_name": "Python 3",
   "language": "python",
   "name": "python3"
  },
  "language_info": {
   "codemirror_mode": {
    "name": "ipython",
    "version": 3
   },
   "file_extension": ".py",
   "mimetype": "text/x-python",
   "name": "python",
   "nbconvert_exporter": "python",
   "pygments_lexer": "ipython3",
   "version": "3.7.3"
  }
 },
 "nbformat": 4,
 "nbformat_minor": 2
}
