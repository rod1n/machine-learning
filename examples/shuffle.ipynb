{
 "cells": [
  {
   "cell_type": "code",
   "execution_count": 1,
   "metadata": {},
   "outputs": [],
   "source": [
    "import sys\n",
    "sys.path.append('..')\n",
    "\n",
    "from nn import Model\n",
    "from nn.layers import Conv2D, MaxPooling2D, Flatten, Dense\n",
    "from nn.optimizers import Adam, SGD\n",
    "from nn.initializers import GlorotNormal\n",
    "import numpy as np\n",
    "import matplotlib.pyplot as plt\n",
    "from tensorflow.keras.datasets import mnist\n",
    "\n",
    "np.set_printoptions(precision=3)\n",
    "np.random.seed(1)"
   ]
  },
  {
   "cell_type": "code",
   "execution_count": 2,
   "metadata": {},
   "outputs": [],
   "source": [
    "def plot_metrics(model):\n",
    "    metrics = {'acc': 'Accuracy', 'loss': 'Loss'}\n",
    "    \n",
    "    figure, subplots = plt.subplots(1, 2)\n",
    "    figure.set_size_inches(13, 4)\n",
    "\n",
    "    for subplot, (metric, title) in zip(subplots, metrics.items()):\n",
    "        subplot.plot(model.scores[metric])\n",
    "        subplot.plot(model.scores['val_' + metric])\n",
    "        subplot.set_title(title)\n",
    "        subplot.legend(['train', 'validation'])\n",
    "    plt.show()"
   ]
  },
  {
   "cell_type": "code",
   "execution_count": 3,
   "metadata": {},
   "outputs": [],
   "source": [
    "(X_train, y_train), (X_test, y_test) = mnist.load_data()\n",
    "X_train = X_train.reshape((X_train.shape[0], -1))\n",
    "X_train = X_train / 255\n",
    "\n",
    "X_test = X_test.reshape((X_test.shape[0], -1))"
   ]
  },
  {
   "cell_type": "code",
   "execution_count": 4,
   "metadata": {},
   "outputs": [],
   "source": [
    "regular = Model()\n",
    "regular.add(Dense(10, activation='sigmoid', input_shape=(784,), weight_initializer=GlorotNormal()))\n",
    "regular.add(Dense(10, activation='softmax'))\n",
    "regular.compile(optimizer=Adam())\n",
    "regular.fit(X_train, y_train, epochs=20, batch_size=32, validation_fraction=0.2, shuffle=False)"
   ]
  },
  {
   "cell_type": "code",
   "execution_count": 5,
   "metadata": {},
   "outputs": [],
   "source": [
    "shuffle = Model()\n",
    "shuffle.add(Dense(10, activation='sigmoid', input_shape=(784,), weight_initializer=GlorotNormal()))\n",
    "shuffle.add(Dense(10, activation='softmax'))\n",
    "shuffle.compile(optimizer=Adam())\n",
    "shuffle.fit(X_train, y_train, epochs=20, batch_size=32, validation_fraction=0.2, shuffle=True)"
   ]
  },
  {
   "cell_type": "code",
   "execution_count": 6,
   "metadata": {},
   "outputs": [
    {
     "data": {
      "image/png": "[encoded data removed]",
      "text/plain": [
       "<Figure size 432x288 with 1 Axes>"
      ]
     },
     "metadata": {
      "needs_background": "light"
     },
     "output_type": "display_data"
    }
   ],
   "source": [
    "plt.plot(regular.scores['loss'])\n",
    "plt.plot(shuffle.scores['loss'])\n",
    "plt.legend(['regular', 'shuffle'])\n",
    "plt.title('loss')\n",
    "plt.show()"
   ]
  },
  {
   "cell_type": "code",
   "execution_count": 7,
   "metadata": {},
   "outputs": [
    {
     "name": "stdout",
     "output_type": "stream",
     "text": [
      "Train/Test accuracy: 0.919/0.883\n"
     ]
    },
    {
     "name": "stderr",
     "output_type": "stream",
     "text": [
      "../nn/activations.py:42: RuntimeWarning: overflow encountered in exp\n",
      "  return 1 / (1 + np.exp(-x))\n"
     ]
    }
   ],
   "source": [
    "_, train_scores = regular.evaluate(X_train, y_train)\n",
    "_, test_scores = regular.evaluate(X_test, y_test)\n",
    "print('Train/Test accuracy: %0.3f/%0.3f' % (train_scores['acc'], test_scores['acc']))"
   ]
  },
  {
   "cell_type": "code",
   "execution_count": 8,
   "metadata": {},
   "outputs": [
    {
     "name": "stdout",
     "output_type": "stream",
     "text": [
      "Train/Test accuracy: 0.940/0.898\n"
     ]
    }
   ],
   "source": [
    "_, train_scores = shuffle.evaluate(X_train, y_train)\n",
    "_, test_scores = shuffle.evaluate(X_test, y_test)\n",
    "print('Train/Test accuracy: %0.3f/%0.3f' % (train_scores['acc'], test_scores['acc']))"
   ]
  },
  {
   "cell_type": "code",
   "execution_count": null,
   "metadata": {},
   "outputs": [],
   "source": []
  }
 ],
 "metadata": {
  "kernelspec": {
   "display_name": "Python 3",
   "language": "python",
   "name": "python3"
  },
  "language_info": {
   "codemirror_mode": {
    "name": "ipython",
    "version": 3
   },
   "file_extension": ".py",
   "mimetype": "text/x-python",
   "name": "python",
   "nbconvert_exporter": "python",
   "pygments_lexer": "ipython3",
   "version": "3.7.3"
  }
 },
 "nbformat": 4,
 "nbformat_minor": 2
}
