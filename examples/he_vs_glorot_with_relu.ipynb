{
 "cells": [
  {
   "cell_type": "code",
   "execution_count": 1,
   "metadata": {},
   "outputs": [],
   "source": [
    "import sys\n",
    "sys.path.append('..')\n",
    "\n",
    "import numpy as np\n",
    "import matplotlib.pyplot as plt\n",
    "from nn import Model\n",
    "from nn.layers import Conv2D, MaxPooling2D, Flatten, Dense\n",
    "from nn.initializers import GlorotNormal, HeNormal\n",
    "from nn.optimizers import Adam\n",
    "from tensorflow.keras.datasets import mnist\n",
    "\n",
    "np.set_printoptions(precision=3)\n",
    "np.random.seed(1)"
   ]
  },
  {
   "cell_type": "code",
   "execution_count": 2,
   "metadata": {},
   "outputs": [],
   "source": [
    "(X_train, y_train), _ = mnist.load_data()\n",
    "X_train = X_train.reshape((X_train.shape[0], -1))\n",
    "X_train = X_train[:3000] / 255\n",
    "y_train = y_train[:3000]"
   ]
  },
  {
   "cell_type": "code",
   "execution_count": 3,
   "metadata": {},
   "outputs": [
    {
     "name": "stdout",
     "output_type": "stream",
     "text": [
      "Epoch 1/10\n",
      "3000/3000 - loss: 2.1134 - accuracy: 0.2278\n",
      "Epoch 2/10\n",
      "3000/3000 - loss: 1.4668 - accuracy: 0.4936\n",
      "Epoch 3/10\n",
      "3000/3000 - loss: 1.2154 - accuracy: 0.5799\n",
      "Epoch 4/10\n",
      "3000/3000 - loss: 1.0479 - accuracy: 0.6441\n",
      "Epoch 5/10\n",
      "3000/3000 - loss: 0.9411 - accuracy: 0.6848\n",
      "Epoch 6/10\n",
      "3000/3000 - loss: 0.8693 - accuracy: 0.7097\n",
      "Epoch 7/10\n",
      "3000/3000 - loss: 0.8409 - accuracy: 0.7161\n",
      "Epoch 8/10\n",
      "3000/3000 - loss: 0.7887 - accuracy: 0.7358\n",
      "Epoch 9/10\n",
      "3000/3000 - loss: 0.7501 - accuracy: 0.7488\n",
      "Epoch 10/10\n",
      "3000/3000 - loss: 0.7167 - accuracy: 0.7702\n"
     ]
    }
   ],
   "source": [
    "glorot = Model()\n",
    "glorot.add(Conv2D(4, kernel_size=(2, 2), activation='relu', input_shape=(1, 28, 28), weight_initializer=GlorotNormal()))\n",
    "glorot.add(MaxPooling2D(pool_size=(2, 2)))\n",
    "glorot.add(Conv2D(4, kernel_size=(2, 2), activation='relu', weight_initializer=GlorotNormal()))\n",
    "glorot.add(MaxPooling2D(pool_size=(2, 2)))\n",
    "glorot.add(Conv2D(4, kernel_size=(2, 2), activation='relu', weight_initializer=GlorotNormal()))\n",
    "glorot.add(MaxPooling2D(pool_size=(2, 2)))\n",
    "glorot.add(Conv2D(4, kernel_size=(2, 2), activation='relu', weight_initializer=GlorotNormal()))\n",
    "glorot.add(MaxPooling2D(pool_size=(2, 2)))\n",
    "glorot.add(Flatten())\n",
    "glorot.add(Dense(10, 'softmax', weight_initializer=GlorotNormal()))\n",
    "glorot.compile(Adam(learning_rate=0.01))\n",
    "glorot.fit(X_train, y_train, epochs=10, batch_size=32, verbose=True)"
   ]
  },
  {
   "cell_type": "code",
   "execution_count": 4,
   "metadata": {},
   "outputs": [
    {
     "name": "stdout",
     "output_type": "stream",
     "text": [
      "Epoch 1/10\n",
      "3000/3000 - loss: 2.0810 - accuracy: 0.2488\n",
      "Epoch 2/10\n",
      "3000/3000 - loss: 1.1141 - accuracy: 0.6390\n",
      "Epoch 3/10\n",
      "3000/3000 - loss: 0.7777 - accuracy: 0.7467\n",
      "Epoch 4/10\n",
      "3000/3000 - loss: 0.6414 - accuracy: 0.7876\n",
      "Epoch 5/10\n",
      "3000/3000 - loss: 0.5558 - accuracy: 0.8221\n",
      "Epoch 6/10\n",
      "3000/3000 - loss: 0.5147 - accuracy: 0.8374\n",
      "Epoch 7/10\n",
      "3000/3000 - loss: 0.4708 - accuracy: 0.8514\n",
      "Epoch 8/10\n",
      "3000/3000 - loss: 0.4413 - accuracy: 0.8630\n",
      "Epoch 9/10\n",
      "3000/3000 - loss: 0.4165 - accuracy: 0.8680\n",
      "Epoch 10/10\n",
      "3000/3000 - loss: 0.4016 - accuracy: 0.8754\n"
     ]
    }
   ],
   "source": [
    "he = Model()\n",
    "he.add(Conv2D(4, kernel_size=(2, 2), activation='relu', input_shape=(1, 28, 28), weight_initializer=HeNormal()))\n",
    "he.add(MaxPooling2D(pool_size=(2, 2)))\n",
    "he.add(Conv2D(4, kernel_size=(2, 2), activation='relu', weight_initializer=HeNormal()))\n",
    "he.add(MaxPooling2D(pool_size=(2, 2)))\n",
    "he.add(Conv2D(4, kernel_size=(2, 2), activation='relu', weight_initializer=HeNormal()))\n",
    "he.add(MaxPooling2D(pool_size=(2, 2)))\n",
    "he.add(Conv2D(4, kernel_size=(2, 2), activation='relu', weight_initializer=HeNormal()))\n",
    "he.add(MaxPooling2D(pool_size=(2, 2)))\n",
    "he.add(Flatten())\n",
    "he.add(Dense(10, 'softmax', weight_initializer=GlorotNormal()))\n",
    "he.compile(Adam(learning_rate=0.01))\n",
    "he.fit(X_train, y_train, epochs=10, batch_size=32, verbose=True)"
   ]
  },
  {
   "cell_type": "code",
   "execution_count": 5,
   "metadata": {},
   "outputs": [
    {
     "data": {
      "image/png": "[encoded data removed]",
      "text/plain": [
       "<Figure size 432x288 with 1 Axes>"
      ]
     },
     "metadata": {
      "needs_background": "light"
     },
     "output_type": "display_data"
    }
   ],
   "source": [
    "plt.plot(glorot.scores['acc'])\n",
    "plt.plot(he.scores['acc'])\n",
    "plt.legend(['glorot', 'he'])\n",
    "plt.show()"
   ]
  }
 ],
 "metadata": {
  "kernelspec": {
   "display_name": "Python 3",
   "language": "python",
   "name": "python3"
  },
  "language_info": {
   "codemirror_mode": {
    "name": "ipython",
    "version": 3
   },
   "file_extension": ".py",
   "mimetype": "text/x-python",
   "name": "python",
   "nbconvert_exporter": "python",
   "pygments_lexer": "ipython3",
   "version": "3.7.4"
  }
 },
 "nbformat": 4,
 "nbformat_minor": 2
}
